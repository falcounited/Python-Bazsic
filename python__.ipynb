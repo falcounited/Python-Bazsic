{
  "nbformat": 4,
  "nbformat_minor": 0,
  "metadata": {
    "colab": {
      "provenance": [],
      "authorship_tag": "ABX9TyMi33PNty2pCJg3Il96c9ak",
      "include_colab_link": true
    },
    "kernelspec": {
      "name": "python3",
      "display_name": "Python 3"
    },
    "language_info": {
      "name": "python"
    }
  },
  "cells": [
    {
      "cell_type": "markdown",
      "metadata": {
        "id": "view-in-github",
        "colab_type": "text"
      },
      "source": [
        "<a href=\"https://colab.research.google.com/github/falcounited/Python-Bazsic/blob/main/python__.ipynb\" target=\"_parent\"><img src=\"https://colab.research.google.com/assets/colab-badge.svg\" alt=\"Open In Colab\"/></a>"
      ]
    },
    {
      "cell_type": "code",
      "execution_count": 6,
      "metadata": {
        "id": "asPHjLkMDV-J"
      },
      "outputs": [],
      "source": [
        "x=[\"joseph m g\",21, 18,\"avinissery\",\"4-5-2004\",]"
      ]
    },
    {
      "cell_type": "code",
      "source": [
        "x"
      ],
      "metadata": {
        "colab": {
          "base_uri": "https://localhost:8080/"
        },
        "id": "1-JNP0tAGlBk",
        "outputId": "d55fbbe6-8635-451a-e8cf-5128731636ac"
      },
      "execution_count": 7,
      "outputs": [
        {
          "output_type": "execute_result",
          "data": {
            "text/plain": [
              "['joseph m g', 21, 18, 'avinissery', '4-5-2004']"
            ]
          },
          "metadata": {},
          "execution_count": 7
        }
      ]
    },
    {
      "cell_type": "code",
      "source": [
        "x[0]"
      ],
      "metadata": {
        "colab": {
          "base_uri": "https://localhost:8080/",
          "height": 35
        },
        "id": "8qzL1-ABG9zr",
        "outputId": "4e6259e7-ab04-4af8-91ed-9258e1c448e0"
      },
      "execution_count": 9,
      "outputs": [
        {
          "output_type": "execute_result",
          "data": {
            "text/plain": [
              "'joseph m g'"
            ],
            "application/vnd.google.colaboratory.intrinsic+json": {
              "type": "string"
            }
          },
          "metadata": {},
          "execution_count": 9
        }
      ]
    },
    {
      "cell_type": "code",
      "source": [
        "x[4]"
      ],
      "metadata": {
        "colab": {
          "base_uri": "https://localhost:8080/",
          "height": 35
        },
        "id": "WxY4ny6AH8Lb",
        "outputId": "9cfec86e-d453-4687-8351-85411155ab57"
      },
      "execution_count": 10,
      "outputs": [
        {
          "output_type": "execute_result",
          "data": {
            "text/plain": [
              "'4-5-2004'"
            ],
            "application/vnd.google.colaboratory.intrinsic+json": {
              "type": "string"
            }
          },
          "metadata": {},
          "execution_count": 10
        }
      ]
    },
    {
      "cell_type": "code",
      "source": [
        "x.append(\"thrissur\")"
      ],
      "metadata": {
        "id": "8-0h1ZXJIEDT"
      },
      "execution_count": 11,
      "outputs": []
    },
    {
      "cell_type": "code",
      "source": [
        "x"
      ],
      "metadata": {
        "colab": {
          "base_uri": "https://localhost:8080/"
        },
        "id": "t3QXpPLZIz0D",
        "outputId": "7ad32429-842b-40e3-ea8a-ea0eced33801"
      },
      "execution_count": 12,
      "outputs": [
        {
          "output_type": "execute_result",
          "data": {
            "text/plain": [
              "['joseph m g', 21, 18, 'avinissery', '4-5-2004', 'thrissur']"
            ]
          },
          "metadata": {},
          "execution_count": 12
        }
      ]
    },
    {
      "cell_type": "code",
      "source": [
        "x.insert(1,\"kerala\")"
      ],
      "metadata": {
        "id": "rUu_qC4zI1No"
      },
      "execution_count": 13,
      "outputs": []
    },
    {
      "cell_type": "code",
      "source": [
        "x"
      ],
      "metadata": {
        "colab": {
          "base_uri": "https://localhost:8080/"
        },
        "id": "BRCvg559KAGL",
        "outputId": "9ec5d233-0967-4664-fd2d-08c243a41813"
      },
      "execution_count": 14,
      "outputs": [
        {
          "output_type": "execute_result",
          "data": {
            "text/plain": [
              "['joseph m g', 'kerala', 21, 18, 'avinissery', '4-5-2004', 'thrissur']"
            ]
          },
          "metadata": {},
          "execution_count": 14
        }
      ]
    },
    {
      "cell_type": "code",
      "source": [
        "x=int(input(\"enter a mark\"))\n",
        "if  x >50 :\n",
        "    print (\"pass\")\n",
        "if  x <50 :\n",
        "    print(\"fail\")"
      ],
      "metadata": {
        "colab": {
          "base_uri": "https://localhost:8080/"
        },
        "id": "W3ITkKSUKBnL",
        "outputId": "fffe0b1d-7723-4cbd-833f-09b996c18428"
      },
      "execution_count": 17,
      "outputs": [
        {
          "output_type": "stream",
          "name": "stdout",
          "text": [
            "enter a mark75\n",
            "pass\n"
          ]
        }
      ]
    },
    {
      "cell_type": "code",
      "source": [
        "x=[\"balu\",\"kevin\",\"vazha\"]\n",
        "print(x)\n",
        "y=input('enter a name')\n",
        "x.append(y)\n",
        "print(x)\n"
      ],
      "metadata": {
        "colab": {
          "base_uri": "https://localhost:8080/"
        },
        "id": "XZo49XE3LZTq",
        "outputId": "4f8413f4-6048-4328-c511-aff031eeb2b7"
      },
      "execution_count": 27,
      "outputs": [
        {
          "output_type": "stream",
          "name": "stdout",
          "text": [
            "['balu', 'kevin', 'vazha']\n",
            "enter a nameikku\n",
            "['balu', 'kevin', 'vazha', 'ikku']\n"
          ]
        }
      ]
    },
    {
      "cell_type": "code",
      "source": [
        "x=[\"boy\",\"tom\",\"antony\"]\n",
        "print(x)\n",
        "y=input('enter a name')\n",
        "x.insert(1,y)\n",
        "print(x)"
      ],
      "metadata": {
        "colab": {
          "base_uri": "https://localhost:8080/"
        },
        "id": "5rbVf4SwQGYS",
        "outputId": "35f0e338-66c7-4759-c9d1-8a8bc20a7375"
      },
      "execution_count": 30,
      "outputs": [
        {
          "output_type": "stream",
          "name": "stdout",
          "text": [
            "['boy', 'tom', 'antony']\n",
            "enter a namejeny\n",
            "['boy', 'jeny', 'tom', 'antony']\n"
          ]
        }
      ]
    },
    {
      "cell_type": "code",
      "source": [],
      "metadata": {
        "id": "zGg7EJbfQzEz"
      },
      "execution_count": 30,
      "outputs": []
    },
    {
      "cell_type": "code",
      "source": [
        "x=[\"boy\",\"tom\",\"antony\"]\n",
        "print(x)\n",
        "y=input('enter a name')\n",
        "k=int(input(\"what position\"))\n",
        "x.insert(k,y)\n",
        "print(x)"
      ],
      "metadata": {
        "colab": {
          "base_uri": "https://localhost:8080/"
        },
        "outputId": "3283ac62-ac84-4ec1-b94b-79abf869f51c",
        "id": "pd0dfmKRgm-B"
      },
      "execution_count": 34,
      "outputs": [
        {
          "output_type": "stream",
          "name": "stdout",
          "text": [
            "['boy', 'tom', 'antony']\n",
            "enter a namejeny\n",
            "what position1\n",
            "['boy', 'jeny', 'tom', 'antony']\n"
          ]
        }
      ]
    },
    {
      "cell_type": "code",
      "source": [],
      "metadata": {
        "id": "WzkorD6UgqCw"
      },
      "execution_count": 33,
      "outputs": []
    }
  ]
}